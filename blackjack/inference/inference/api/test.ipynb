{
 "cells": [
  {
   "cell_type": "code",
   "execution_count": 2,
   "metadata": {},
   "outputs": [],
   "source": [
    "import os"
   ]
  },
  {
   "cell_type": "code",
   "execution_count": 11,
   "metadata": {},
   "outputs": [
    {
     "data": {
      "text/plain": [
       "'../temp_image'"
      ]
     },
     "execution_count": 11,
     "metadata": {},
     "output_type": "execute_result"
    }
   ],
   "source": [
    "os.path.join(\"computer_vision\", \"temp_image\")"
   ]
  },
  {
   "cell_type": "code",
   "execution_count": 14,
   "metadata": {},
   "outputs": [
    {
     "data": {
      "text/plain": [
       "'/Users/sergi/code/seeergiii/blackjack/blackjack/inference/inference/temp_image'"
      ]
     },
     "execution_count": 14,
     "metadata": {},
     "output_type": "execute_result"
    }
   ],
   "source": [
    "os.path.abspath(os.path.join(, \"temp_image\"))"
   ]
  },
  {
   "cell_type": "code",
   "execution_count": 4,
   "metadata": {},
   "outputs": [
    {
     "data": {
      "text/plain": [
       "'/Users/sergi/code/seeergiii/blackjack/blackjack/inference/inference/test.jpg'"
      ]
     },
     "execution_count": 4,
     "metadata": {},
     "output_type": "execute_result"
    }
   ],
   "source": [
    "os.path.abspath(os.path.join(\"..\", \"test.jpg\"))"
   ]
  },
  {
   "cell_type": "code",
   "execution_count": 1,
   "metadata": {},
   "outputs": [],
   "source": [
    "# Class mapping\n",
    "class_ids = [\n",
    "    \"10c\",\n",
    "    \"10d\",\n",
    "    \"10h\",\n",
    "    \"10s\",\n",
    "    \"2c\",\n",
    "    \"2d\",\n",
    "    \"2h\",\n",
    "    \"2s\",\n",
    "    \"3c\",\n",
    "    \"3d\",\n",
    "    \"3h\",\n",
    "    \"3s\",\n",
    "    \"4c\",\n",
    "    \"4d\",\n",
    "    \"4h\",\n",
    "    \"4s\",\n",
    "    \"5c\",\n",
    "    \"5d\",\n",
    "    \"5h\",\n",
    "    \"5s\",\n",
    "    \"6c\",\n",
    "    \"6d\",\n",
    "    \"6h\",\n",
    "    \"6s\",\n",
    "    \"7c\",\n",
    "    \"7d\",\n",
    "    \"7h\",\n",
    "    \"7s\",\n",
    "    \"8c\",\n",
    "    \"8d\",\n",
    "    \"8h\",\n",
    "    \"8s\",\n",
    "    \"9c\",\n",
    "    \"9d\",\n",
    "    \"9h\",\n",
    "    \"9s\",\n",
    "    \"Ac\",\n",
    "    \"Ad\",\n",
    "    \"Ah\",\n",
    "    \"As\",\n",
    "    \"Jc\",\n",
    "    \"Jd\",\n",
    "    \"Jh\",\n",
    "    \"Js\",\n",
    "    \"Kc\",\n",
    "    \"Kd\",\n",
    "    \"Kh\",\n",
    "    \"Ks\",\n",
    "    \"Qc\",\n",
    "    \"Qd\",\n",
    "    \"Qh\",\n",
    "    \"Qs\",\n",
    "]\n",
    "class_mapping = dict(zip(range(len(class_ids)), class_ids))"
   ]
  },
  {
   "cell_type": "code",
   "execution_count": 2,
   "metadata": {},
   "outputs": [
    {
     "data": {
      "text/plain": [
       "{0: '10c',\n",
       " 1: '10d',\n",
       " 2: '10h',\n",
       " 3: '10s',\n",
       " 4: '2c',\n",
       " 5: '2d',\n",
       " 6: '2h',\n",
       " 7: '2s',\n",
       " 8: '3c',\n",
       " 9: '3d',\n",
       " 10: '3h',\n",
       " 11: '3s',\n",
       " 12: '4c',\n",
       " 13: '4d',\n",
       " 14: '4h',\n",
       " 15: '4s',\n",
       " 16: '5c',\n",
       " 17: '5d',\n",
       " 18: '5h',\n",
       " 19: '5s',\n",
       " 20: '6c',\n",
       " 21: '6d',\n",
       " 22: '6h',\n",
       " 23: '6s',\n",
       " 24: '7c',\n",
       " 25: '7d',\n",
       " 26: '7h',\n",
       " 27: '7s',\n",
       " 28: '8c',\n",
       " 29: '8d',\n",
       " 30: '8h',\n",
       " 31: '8s',\n",
       " 32: '9c',\n",
       " 33: '9d',\n",
       " 34: '9h',\n",
       " 35: '9s',\n",
       " 36: 'Ac',\n",
       " 37: 'Ad',\n",
       " 38: 'Ah',\n",
       " 39: 'As',\n",
       " 40: 'Jc',\n",
       " 41: 'Jd',\n",
       " 42: 'Jh',\n",
       " 43: 'Js',\n",
       " 44: 'Kc',\n",
       " 45: 'Kd',\n",
       " 46: 'Kh',\n",
       " 47: 'Ks',\n",
       " 48: 'Qc',\n",
       " 49: 'Qd',\n",
       " 50: 'Qh',\n",
       " 51: 'Qs'}"
      ]
     },
     "execution_count": 2,
     "metadata": {},
     "output_type": "execute_result"
    }
   ],
   "source": [
    "class_mapping[]"
   ]
  },
  {
   "cell_type": "code",
   "execution_count": 4,
   "metadata": {},
   "outputs": [],
   "source": [
    "a = [[5,3], [5,2]]"
   ]
  }
 ],
 "metadata": {
  "kernelspec": {
   "display_name": "blackjack",
   "language": "python",
   "name": "python3"
  },
  "language_info": {
   "codemirror_mode": {
    "name": "ipython",
    "version": 3
   },
   "file_extension": ".py",
   "mimetype": "text/x-python",
   "name": "python",
   "nbconvert_exporter": "python",
   "pygments_lexer": "ipython3",
   "version": "3.10.6"
  },
  "orig_nbformat": 4
 },
 "nbformat": 4,
 "nbformat_minor": 2
}
